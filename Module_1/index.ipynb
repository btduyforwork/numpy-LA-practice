{
 "cells": [
  {
   "cell_type": "code",
   "execution_count": 31,
   "id": "efd8a038",
   "metadata": {},
   "outputs": [
    {
     "name": "stdout",
     "output_type": "stream",
     "text": [
      "5.0\n"
     ]
    }
   ],
   "source": [
    "import numpy as np\n",
    "# def compute_vector_length(vector):\n",
    "#     return np.sqrt(np.sum(vector**2))\n",
    "\n",
    "def compute_vector_length(vector):\n",
    "    return np.linalg.norm(vector)\n",
    "print(compute_vector_length(np.array([3,4])))\n"
   ]
  },
  {
   "cell_type": "code",
   "execution_count": null,
   "id": "7dfd59da",
   "metadata": {},
   "outputs": [
    {
     "data": {
      "text/plain": [
       "np.int64(4)"
      ]
     },
     "execution_count": 32,
     "metadata": {},
     "output_type": "execute_result"
    }
   ],
   "source": [
    "# Compute dot product of 2 vectors:\n",
    "def compute_dot_product(vector1, vector2):\n",
    "    return np.dot(vector1,vector2)\n",
    "print(compute_dot_product(np.array([0, 1, -1, 2]),np.array([2, 5, 1, 0])))"
   ]
  }
 ],
 "metadata": {
  "kernelspec": {
   "display_name": "venv",
   "language": "python",
   "name": "python3"
  },
  "language_info": {
   "codemirror_mode": {
    "name": "ipython",
    "version": 3
   },
   "file_extension": ".py",
   "mimetype": "text/x-python",
   "name": "python",
   "nbconvert_exporter": "python",
   "pygments_lexer": "ipython3",
   "version": "3.11.13"
  }
 },
 "nbformat": 4,
 "nbformat_minor": 5
}
