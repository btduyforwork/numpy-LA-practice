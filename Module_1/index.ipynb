{
 "cells": [
  {
   "cell_type": "code",
   "execution_count": 31,
   "id": "efd8a038",
   "metadata": {},
   "outputs": [
    {
     "name": "stdout",
     "output_type": "stream",
     "text": [
      "5.0\n"
     ]
    }
   ],
   "source": [
    "import numpy as np\n",
    "# def compute_vector_length(vector):\n",
    "#     return np.sqrt(np.sum(vector**2))\n",
    "\n",
    "def compute_vector_length(vector):\n",
    "    return np.linalg.norm(vector)\n",
    "print(compute_vector_length(np.array([3,4])))\n"
   ]
  },
  {
   "cell_type": "code",
   "execution_count": 41,
   "id": "7dfd59da",
   "metadata": {},
   "outputs": [
    {
     "name": "stdout",
     "output_type": "stream",
     "text": [
      "4\n"
     ]
    }
   ],
   "source": [
    "# Compute dot product of 2 vectors:\n",
    "def compute_dot_product(vector1, vector2):\n",
    "    # return np.dot(vector1,vector2)\n",
    "    return vector1@vector2\n",
    "print(compute_dot_product(np.array([0, 1, -1, 2]),np.array([2, 5, 1, 0])))"
   ]
  }
 ],
 "metadata": {
  "kernelspec": {
   "display_name": "venv",
   "language": "python",
   "name": "python3"
  },
  "language_info": {
   "codemirror_mode": {
    "name": "ipython",
    "version": 3
   },
   "file_extension": ".py",
   "mimetype": "text/x-python",
   "name": "python",
   "nbconvert_exporter": "python",
   "pygments_lexer": "ipython3",
   "version": "3.11.13"
  }
 },
 "nbformat": 4,
 "nbformat_minor": 5
}
