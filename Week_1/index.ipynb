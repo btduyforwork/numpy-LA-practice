{
 "cells": [
  {
   "cell_type": "code",
   "execution_count": 10,
   "id": "efd8a038",
   "metadata": {},
   "outputs": [
    {
     "name": "stdout",
     "output_type": "stream",
     "text": [
      "5.0\n"
     ]
    }
   ],
   "source": [
    "import numpy as np\n",
    "# def compute_vector_length(vector):\n",
    "#     return np.sqrt(np.sum(vector**2))\n",
    "\n",
    "def compute_vector_length(vector):\n",
    "    return np.linalg.norm(vector)\n",
    "print(compute_vector_length(np.array([3,4])))\n"
   ]
  },
  {
   "cell_type": "code",
   "execution_count": 41,
   "id": "7dfd59da",
   "metadata": {},
   "outputs": [
    {
     "name": "stdout",
     "output_type": "stream",
     "text": [
      "4\n"
     ]
    }
   ],
   "source": [
    "# Compute dot product of 2 vectors:\n",
    "def compute_dot_product(vector1, vector2):\n",
    "    # return np.dot(vector1,vector2)\n",
    "    return vector1@vector2\n",
    "print(compute_dot_product(np.array([0, 1, -1, 2]),np.array([2, 5, 1, 0])))"
   ]
  },
  {
   "cell_type": "code",
   "execution_count": 42,
   "id": "8653348d",
   "metadata": {},
   "outputs": [
    {
     "name": "stdout",
     "output_type": "stream",
     "text": [
      "[3 1]\n"
     ]
    }
   ],
   "source": [
    "def matrix_multi_vector(matrix, vector):\n",
    "    return np.dot(matrix,vector)\n",
    "print(matrix_multi_vector(np.array([[-1, 1, 1], [0, -4, 9]]),np.array([0, 2, 1])))"
   ]
  },
  {
   "cell_type": "code",
   "execution_count": 6,
   "id": "9475f011",
   "metadata": {},
   "outputs": [
    {
     "name": "stdout",
     "output_type": "stream",
     "text": [
      "0.5773502691896257\n"
     ]
    }
   ],
   "source": [
    "# Consine Similarity\n",
    "def compute_cosine(v1, v2):\n",
    "    v1=v1.flatten().astype(np.float64)\n",
    "    v2=v2.flatten().astype(np.float64)\n",
    "    norm_v1=np.linalg.norm(v1)\n",
    "    norm_v2=np.linalg.norm(v2)\n",
    "    if norm_v1==0 or norm_v2==0:\n",
    "        return 0.0\n",
    "    return np.dot(v1,v2)/(norm_v1*norm_v2)\n",
    "print(compute_cosine(np.array([1, 2, 3, 4]),np.array([1, 0, 3, 0])))"
   ]
  },
  {
   "cell_type": "code",
   "execution_count": 16,
   "id": "10e726d6",
   "metadata": {},
   "outputs": [
    {
     "data": {
      "text/plain": [
       "True"
      ]
     },
     "execution_count": 16,
     "metadata": {},
     "output_type": "execute_result"
    }
   ],
   "source": [
    "# Background Subtraction:\n",
    "import cv2\n",
    "Ori_Bg=cv2.imread(\"Img/original_bg.png\",1)\n",
    "Ori_Bg=cv2.resize(Ori_Bg,(678, 381))\n",
    "\n",
    "Object_Ig=cv2.imread(\"Img/object_ig.png\",1)\n",
    "Object_Ig=cv2.resize(Object_Ig,(678, 381))\n",
    "\n",
    "Target_Bg=cv2.imread(\"Img/target_bg.png\",1)\n",
    "Target_Bg=cv2.resize(Target_Bg,(678, 381))\n",
    "\n",
    "difference=cv2.absdiff(Object_Ig,Ori_Bg)\n",
    "_, thresh_img = cv2.threshold(difference, 5, 255, cv2.THRESH_BINARY)\n",
    "\n",
    "output=np.where(thresh_img==0,Target_Bg,Object_Ig)\n",
    "cv2.imwrite(\"Output/output.png\",output)"
   ]
  },
  {
   "cell_type": "code",
   "execution_count": 18,
   "id": "3430a60f",
   "metadata": {},
   "outputs": [
    {
     "name": "stdout",
     "output_type": "stream",
     "text": [
      "[ 0 -1  2 -1  4 -1  6 -1  8 -1]\n"
     ]
    }
   ],
   "source": [
    "arr = np.arange(0, 10)\n",
    "print(np.where(arr%2==1,-1,arr))"
   ]
  },
  {
   "cell_type": "code",
   "execution_count": null,
   "id": "5e07cf2e",
   "metadata": {},
   "outputs": [
    {
     "name": "stdout",
     "output_type": "stream",
     "text": [
      "245.57399999999998\n"
     ]
    }
   ],
   "source": [
    "# Grayscale the image\n",
    "import matplotlib.pyplot as plt\n",
    "dog_img=cv2.imread(\"Img/dog_image.png\",1)\n",
    "weights = np.array([0.213, 0.715, 0.072])\n",
    "output=dog_img@weights\n",
    "# plt.imshow(dog_img)\n",
    "# plt.imshow(output, cmap='gray')\n",
    "print(output[0,0])"
   ]
  },
  {
   "cell_type": "code",
   "execution_count": 1,
   "id": "588306f4",
   "metadata": {},
   "outputs": [
    {
     "name": "stdout",
     "output_type": "stream",
     "text": [
      "1405.1\n"
     ]
    }
   ],
   "source": [
    "import pandas as pd\n",
    "import numpy as np\n",
    "df=pd.read_csv(\"advertising.csv\")\n",
    "data = df.to_numpy()\n",
    "sales=data[:,-1]\n",
    "radio=data[:,1]\n",
    "newspaper=data[:,2]\n",
    "\n",
    "mean_newspaper = np.mean(newspaper)\n",
    "\n",
    "# sum_sales=np.sum(np.where(newspaper>mean_newspaper,sales,0))\n",
    "sum_sales=np.sum(sales[newspaper>mean_newspaper])\n",
    "\n",
    "max_value=np.max(sales)\n",
    "count=len(sales[sales>=20])\n",
    "# print(f\"Max: {max_value}\")\n",
    "# print(f\"Length: {count}\")\n",
    "print(sum_sales)"
   ]
  },
  {
   "cell_type": "code",
   "execution_count": null,
   "id": "3a626ae6",
   "metadata": {},
   "outputs": [
    {
     "name": "stdout",
     "output_type": "stream",
     "text": [
      "10\n",
      "[66.1  5.8 24.2]\n",
      "[66.1  5.8 24.2]\n"
     ]
    }
   ],
   "source": [
    "# Tìm dòng nào có pattern chi tiêu giống nhất với một dòng nào đó\n",
    "target=data[10,:3]\n",
    "features=data[:,:3]\n",
    "cosine_similarities=np.array([compute_cosine(feature,target) for feature in features])\n",
    "most_similar_idx = np.argmax(cosine_similarities)\n",
    "print(most_similar_idx)\n",
    "print(data[most_similar_idx,:3])\n",
    "print(target)"
   ]
  }
 ],
 "metadata": {
  "kernelspec": {
   "display_name": "venv",
   "language": "python",
   "name": "python3"
  },
  "language_info": {
   "codemirror_mode": {
    "name": "ipython",
    "version": 3
   },
   "file_extension": ".py",
   "mimetype": "text/x-python",
   "name": "python",
   "nbconvert_exporter": "python",
   "pygments_lexer": "ipython3",
   "version": "3.11.13"
  }
 },
 "nbformat": 4,
 "nbformat_minor": 5
}
