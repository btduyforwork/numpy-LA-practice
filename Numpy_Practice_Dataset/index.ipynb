{
 "cells": [
  {
   "cell_type": "markdown",
   "id": "9f7bf51f",
   "metadata": {},
   "source": [
    "## NumPy Exercises for Data Analysis (Python)"
   ]
  },
  {
   "cell_type": "code",
   "execution_count": 4,
   "id": "3db88ff1",
   "metadata": {},
   "outputs": [
    {
     "name": "stdout",
     "output_type": "stream",
     "text": [
      "(150, 5)\n"
     ]
    }
   ],
   "source": [
    "import numpy as np\n",
    "# Import the Iris data keeping the text intact\n",
    "\n",
    "url=\"https://archive.ics.uci.edu/ml/machine-learning-databases/iris/iris.data\"\n",
    "iris=np.genfromtxt(url,delimiter=\",\",dtype=\"object\")\n",
    "names = ('sepallength', 'sepalwidth', 'petallength', 'petalwidth', 'species')\n",
    "print(iris.shape)\n"
   ]
  },
  {
   "cell_type": "code",
   "execution_count": 17,
   "id": "277cef9f",
   "metadata": {},
   "outputs": [
    {
     "name": "stdout",
     "output_type": "stream",
     "text": [
      "[np.str_('Iris-setosa'), np.str_('Iris-setosa'), np.str_('Iris-setosa'), np.str_('Iris-setosa'), np.str_('Iris-setosa')]\n"
     ]
    }
   ],
   "source": [
    "import numpy as np\n",
    "# Extract the text column species from the 1D iris imported in previous question.\n",
    "\n",
    "url=\"https://archive.ics.uci.edu/ml/machine-learning-databases/iris/iris.data\"\n",
    "iris=np.genfromtxt(url, delimiter=',', dtype=None)\n",
    "\n",
    "species=[row[4] for row in iris]\n",
    "\n",
    "print(species[:5])"
   ]
  },
  {
   "cell_type": "code",
   "execution_count": 4,
   "id": "f52d579e",
   "metadata": {},
   "outputs": [
    {
     "name": "stdout",
     "output_type": "stream",
     "text": [
      "5.843333333333334 5.8 0.8253012917851409\n"
     ]
    }
   ],
   "source": [
    "import numpy as np\n",
    "# Extract the text column species from the 1D iris imported in previous question.\n",
    "\n",
    "url=\"https://archive.ics.uci.edu/ml/machine-learning-databases/iris/iris.data\"\n",
    "iris=np.genfromtxt(url, delimiter=',', dtype=None,usecols=[0,1,2,3])\n",
    "sepallength=iris[:,0]\n",
    "mu, med, sd = np.mean(sepallength), np.median(sepallength), np.std(sepallength)\n",
    "print(mu, med, sd)\n"
   ]
  },
  {
   "cell_type": "code",
   "execution_count": 12,
   "id": "e3018d7a",
   "metadata": {},
   "outputs": [
    {
     "name": "stdout",
     "output_type": "stream",
     "text": [
      "[0.22222222 0.16666667 0.11111111 0.08333333 0.19444444 0.30555556\n",
      " 0.08333333 0.19444444 0.02777778 0.16666667 0.30555556 0.13888889\n",
      " 0.13888889 0.         0.41666667 0.38888889 0.30555556 0.22222222\n",
      " 0.38888889 0.22222222 0.30555556 0.22222222 0.08333333 0.22222222\n",
      " 0.13888889 0.19444444 0.19444444 0.25       0.25       0.11111111\n",
      " 0.13888889 0.30555556 0.25       0.33333333 0.16666667 0.19444444\n",
      " 0.33333333 0.16666667 0.02777778 0.22222222 0.19444444 0.05555556\n",
      " 0.02777778 0.19444444 0.22222222 0.13888889 0.22222222 0.08333333\n",
      " 0.27777778 0.19444444 0.75       0.58333333 0.72222222 0.33333333\n",
      " 0.61111111 0.38888889 0.55555556 0.16666667 0.63888889 0.25\n",
      " 0.19444444 0.44444444 0.47222222 0.5        0.36111111 0.66666667\n",
      " 0.36111111 0.41666667 0.52777778 0.36111111 0.44444444 0.5\n",
      " 0.55555556 0.5        0.58333333 0.63888889 0.69444444 0.66666667\n",
      " 0.47222222 0.38888889 0.33333333 0.33333333 0.41666667 0.47222222\n",
      " 0.30555556 0.47222222 0.66666667 0.55555556 0.36111111 0.33333333\n",
      " 0.33333333 0.5        0.41666667 0.19444444 0.36111111 0.38888889\n",
      " 0.38888889 0.52777778 0.22222222 0.38888889 0.55555556 0.41666667\n",
      " 0.77777778 0.55555556 0.61111111 0.91666667 0.16666667 0.83333333\n",
      " 0.66666667 0.80555556 0.61111111 0.58333333 0.69444444 0.38888889\n",
      " 0.41666667 0.58333333 0.61111111 0.94444444 0.94444444 0.47222222\n",
      " 0.72222222 0.36111111 0.94444444 0.55555556 0.66666667 0.80555556\n",
      " 0.52777778 0.5        0.58333333 0.80555556 0.86111111 1.\n",
      " 0.58333333 0.55555556 0.5        0.94444444 0.55555556 0.58333333\n",
      " 0.47222222 0.72222222 0.66666667 0.72222222 0.41666667 0.69444444\n",
      " 0.66666667 0.66666667 0.55555556 0.61111111 0.52777778 0.44444444]\n"
     ]
    }
   ],
   "source": [
    "import numpy as np\n",
    "# Extract the text column species from the 1D iris imported in previous question.\n",
    "\n",
    "url=\"https://archive.ics.uci.edu/ml/machine-learning-databases/iris/iris.data\"\n",
    "iris=np.genfromtxt(url, delimiter=',', dtype=None,usecols=[0,1,2,3])\n",
    "sepallength=iris[:,0]\n",
    "max_value=np.max(sepallength)\n",
    "min_value=np.min(sepallength)\n",
    "# output=(sepallength-min_value)/(max_value-min_value)\n",
    "output=(sepallength-min_value)/np.ptp(sepallength)\n",
    "print(output)"
   ]
  },
  {
   "cell_type": "code",
   "execution_count": 14,
   "id": "5f208652",
   "metadata": {},
   "outputs": [
    {
     "name": "stdout",
     "output_type": "stream",
     "text": [
      "-6\n"
     ]
    }
   ],
   "source": [
    "def soft_max(x):    \n",
    "    return np.exp(x-np.max(x))/np.sum(np.exp(x-np.max(x)))\n",
    "\n",
    "def test_soft_max(x):\n",
    "    return np.sum(x-np.max(x))\n",
    "print(test_soft_max([3,5,1]))\n"
   ]
  },
  {
   "cell_type": "code",
   "execution_count": null,
   "id": "8013dee9",
   "metadata": {},
   "outputs": [],
   "source": [
    "import numpy as np\n",
    "# Extract the text column species from the 1D iris imported in previous question.\n",
    "\n",
    "url=\"https://archive.ics.uci.edu/ml/machine-learning-databases/iris/iris.data\"\n",
    "iris=np.genfromtxt(url, delimiter=',', dtype=None,usecols=[0])\n",
    "print(soft_max(iris))\n"
   ]
  },
  {
   "cell_type": "code",
   "execution_count": 100,
   "id": "94df494c",
   "metadata": {},
   "outputs": [
    {
     "name": "stdout",
     "output_type": "stream",
     "text": [
      "20\n",
      "(array([  8,  14,  24,  24,  34,  53,  58,  60,  66,  67,  79,  87,  94,\n",
      "        98, 103, 107, 137, 138, 143, 144]), array([1, 0, 2, 3, 0, 1, 1, 3, 3, 2, 0, 0, 1, 1, 3, 3, 1, 3, 3, 3]))\n",
      "[[  8   1]\n",
      " [ 14   0]\n",
      " [ 24   2]\n",
      " [ 24   3]\n",
      " [ 34   0]\n",
      " [ 53   1]\n",
      " [ 58   1]\n",
      " [ 60   3]\n",
      " [ 66   3]\n",
      " [ 67   2]\n",
      " [ 79   0]\n",
      " [ 87   0]\n",
      " [ 94   1]\n",
      " [ 98   1]\n",
      " [103   3]\n",
      " [107   3]\n",
      " [137   1]\n",
      " [138   3]\n",
      " [143   3]\n",
      " [144   3]]\n"
     ]
    }
   ],
   "source": [
    "import numpy as np\n",
    "# Extract the text column species from the 1D iris imported in previous question.\n",
    "\n",
    "url=\"https://archive.ics.uci.edu/ml/machine-learning-databases/iris/iris.data\"\n",
    "iris=np.genfromtxt(url, delimiter=',', dtype='float',usecols=[0,1,2,3])\n",
    "np.random.seed(100)\n",
    "x=np.random.randint(150,size=20) #array\n",
    "y=np.random.randint(4,size=20)   #array\n",
    "iris[x,y]=np.nan\n",
    "\n",
    "print(np.isnan(iris).sum())\n",
    "print(np.where(np.isnan(iris)))\n",
    "print(np.column_stack(np.where(np.isnan(iris))))\n"
   ]
  },
  {
   "cell_type": "code",
   "execution_count": 98,
   "id": "123670c4",
   "metadata": {},
   "outputs": [
    {
     "name": "stdout",
     "output_type": "stream",
     "text": [
      "[False False False False False False False False False False False  True\n",
      " False False False False False False False False False False False False\n",
      "  True False False False False  True  True False False False False False\n",
      " False False False False False False False False False False False False\n",
      " False False False False False False False False False  True False False\n",
      " False False False False False False False False False False False False\n",
      " False False False False False False False False False False False False\n",
      " False False False False False False False False False False False False\n",
      " False False False False False False False False False False  True False\n",
      " False False False False False False False False False False False False\n",
      " False False False False False False False False False False False False\n",
      " False False False False False False False False False False False False\n",
      " False False False False False False]\n"
     ]
    },
    {
     "data": {
      "text/plain": [
       "array([[4.8, 3.4, 1.6, 0.2],\n",
       "       [4.8, 3.4, 1.9, 0.2],\n",
       "       [4.7, 3.2, 1.6, 0.2],\n",
       "       [4.8, 3.1, 1.6, 0.2],\n",
       "       [4.9, 2.4, 3.3, 1. ],\n",
       "       [4.9, 2.5, 4.5, 1.7]])"
      ]
     },
     "execution_count": 98,
     "metadata": {},
     "output_type": "execute_result"
    }
   ],
   "source": [
    "# Filter the rows of iris_2d that has petallength (3rd column) > 1.5 and sepallength (1st column) < 5.0\n",
    "\n",
    "url = 'https://archive.ics.uci.edu/ml/machine-learning-databases/iris/iris.data'\n",
    "iris_2d = np.genfromtxt(url, delimiter=',', dtype='float', usecols=[0,1,2,3])\n",
    "condition=(iris_2d[:,2]>1.5) & (iris_2d[:,0]<5.0)\n",
    "print(condition)\n",
    "iris_2d[condition]\n"
   ]
  },
  {
   "cell_type": "code",
   "execution_count": 69,
   "id": "a4df1e86",
   "metadata": {},
   "outputs": [
    {
     "data": {
      "text/plain": [
       "array([[4.8, 3.4, 1.6, 0.2],\n",
       "       [4.8, 3.4, 1.9, 0.2],\n",
       "       [4.7, 3.2, 1.6, 0.2],\n",
       "       [4.8, 3.1, 1.6, 0.2],\n",
       "       [4.9, 2.4, 3.3, 1. ],\n",
       "       [4.9, 2.5, 4.5, 1.7]])"
      ]
     },
     "execution_count": 69,
     "metadata": {},
     "output_type": "execute_result"
    }
   ],
   "source": [
    "url = 'https://archive.ics.uci.edu/ml/machine-learning-databases/iris/iris.data'\n",
    "iris_2d = np.genfromtxt(url, delimiter=',', dtype='float', usecols=[0,1,2,3])\n",
    "np.where((iris_2d[:,2]>1.5) & (iris_2d[:,0]<5.0))\n",
    "iris_2d[np.where((iris_2d[:,2]>1.5) & (iris_2d[:,0]<5.0))]"
   ]
  },
  {
   "cell_type": "code",
   "execution_count": null,
   "id": "387018a1",
   "metadata": {},
   "outputs": [],
   "source": []
  },
  {
   "cell_type": "code",
   "execution_count": null,
   "id": "ee2d207f",
   "metadata": {},
   "outputs": [],
   "source": []
  },
  {
   "cell_type": "code",
   "execution_count": null,
   "id": "f5d84c60",
   "metadata": {},
   "outputs": [],
   "source": []
  },
  {
   "cell_type": "code",
   "execution_count": null,
   "id": "0858eb6a",
   "metadata": {},
   "outputs": [],
   "source": []
  },
  {
   "cell_type": "code",
   "execution_count": null,
   "id": "71a0b2a8",
   "metadata": {},
   "outputs": [],
   "source": []
  }
 ],
 "metadata": {
  "kernelspec": {
   "display_name": "venv",
   "language": "python",
   "name": "python3"
  },
  "language_info": {
   "codemirror_mode": {
    "name": "ipython",
    "version": 3
   },
   "file_extension": ".py",
   "mimetype": "text/x-python",
   "name": "python",
   "nbconvert_exporter": "python",
   "pygments_lexer": "ipython3",
   "version": "3.11.13"
  }
 },
 "nbformat": 4,
 "nbformat_minor": 5
}
