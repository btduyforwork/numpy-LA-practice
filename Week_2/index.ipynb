{
 "cells": [
  {
   "cell_type": "code",
   "execution_count": 2,
   "id": "453170bb",
   "metadata": {},
   "outputs": [],
   "source": [
    "import numpy as np\n",
    "from typing import List, Tuple, Dict\n",
    "import csv"
   ]
  },
  {
   "cell_type": "code",
   "execution_count": 3,
   "id": "3e32e9e7",
   "metadata": {},
   "outputs": [
    {
     "name": "stdout",
     "output_type": "stream",
     "text": [
      "[3 4]\n"
     ]
    }
   ],
   "source": [
    "arr=np.array([[1,3,4],[4,5,6]])\n",
    "print(arr[0,[1,2]])"
   ]
  },
  {
   "cell_type": "code",
   "execution_count": 4,
   "id": "01051ee9",
   "metadata": {},
   "outputs": [
    {
     "name": "stdout",
     "output_type": "stream",
     "text": [
      "[[0. 0. 0. 0.]\n",
      " [0. 0. 0. 0.]]\n"
     ]
    }
   ],
   "source": [
    "new_array=np.zeros((2,4))\n",
    "print(new_array)"
   ]
  },
  {
   "cell_type": "code",
   "execution_count": 5,
   "id": "96111ad9",
   "metadata": {},
   "outputs": [
    {
     "name": "stdout",
     "output_type": "stream",
     "text": [
      "(10, 5)\n"
     ]
    }
   ],
   "source": [
    "# create_training_data() store training dataset under 2d array \n",
    "\n",
    "def create_training_data():\n",
    "    \n",
    "    # Create the training dataset for tennis prediction.\n",
    "    return np.array([\n",
    "        ['Sunny', 'Hot', 'High', 'Weak', 'No'],\n",
    "        ['Sunny', 'Hot', 'High', 'Strong', 'No'],\n",
    "        ['Overcast', 'Hot', 'High', 'Weak', 'Yes'],\n",
    "        ['Rain', 'Mild', 'High', 'Weak', 'Yes'],\n",
    "        ['Rain', 'Cool', 'Normal', 'Weak', 'Yes'],\n",
    "        ['Rain', 'Cool', 'Normal', 'Strong', 'No'],\n",
    "        ['Overcast', 'Cool', 'Normal', 'Strong', 'Yes'],\n",
    "        ['Overcast', 'Mild', 'High', 'Weak', 'No'],\n",
    "        ['Sunny', 'Cool', 'Normal', 'Weak', 'Yes'],\n",
    "        ['Rain', 'Mild', 'Normal', 'Weak', 'Yes']\n",
    "    ])\n",
    "    \n",
    "training_data=create_training_data()\n",
    "print(training_data.shape)"
   ]
  },
  {
   "cell_type": "code",
   "execution_count": 17,
   "id": "65b32abb",
   "metadata": {},
   "outputs": [
    {
     "name": "stdout",
     "output_type": "stream",
     "text": [
      "[0.4 0.6]\n"
     ]
    }
   ],
   "source": [
    "def compute_prior_probabilities(train_data):\n",
    "    \"\"\"\n",
    "    Calculate prior probabilities P(Play Tennis = Yes/No).\n",
    "    Args:\n",
    "        train_data: Training dataset\n",
    "    Returns:\n",
    "        Array of prior probabilities [P(No), P(Yes)]\n",
    "    \"\"\"\n",
    "    \n",
    "    class_names = ['No', 'Yes']\n",
    "    total_samples = len(train_data)\n",
    "    prior_probs = np.zeros(len(class_names))\n",
    "\n",
    "    \n",
    "    for i,class_name in enumerate(class_names):\n",
    "        class_count=len(train_data[train_data[:,-1]==class_name])\n",
    "        prior_probs[i]=class_count/total_samples\n",
    "    return prior_probs\n",
    "    \n",
    "train_data=create_training_data()\n",
    "print(compute_prior_probabilities(train_data))"
   ]
  },
  {
   "cell_type": "code",
   "execution_count": 22,
   "id": "cb5b87ed",
   "metadata": {},
   "outputs": [
    {
     "name": "stdout",
     "output_type": "stream",
     "text": [
      "x1 =  ['Overcast', 'Rain', 'Sunny']\n",
      "x2 =  ['Cool', 'Hot', 'Mild']\n",
      "x3 =  ['High', 'Normal']\n",
      "x4 =  ['Strong', 'Weak']\n",
      "[[0.25       0.25       0.5       ]\n",
      " [0.33333333 0.5        0.16666667]]\n",
      "[[0.25       0.5        0.25      ]\n",
      " [0.5        0.16666667 0.33333333]]\n",
      "[[0.75       0.25      ]\n",
      " [0.33333333 0.66666667]]\n",
      "[[0.5        0.5       ]\n",
      " [0.16666667 0.83333333]]\n"
     ]
    }
   ],
   "source": [
    "def compute_conditional_probabilities(train_data):\n",
    "    \"\"\"\n",
    "    Calculate conditional probabilities P(Feature|Class) for all features.\n",
    "\n",
    "    Args:\n",
    "        train_data: Training dataset\n",
    "\n",
    "    Returns:\n",
    "        Tuple of (conditional_probabilities, feature_values)\n",
    "    \"\"\"\n",
    "    class_names = ['No', 'Yes']\n",
    "    n_features = train_data.shape[1] - 1  # Exclude target column\n",
    "    conditional_probs = []\n",
    "    feature_values = []\n",
    "    \n",
    "    for feature_idx in range(n_features):\n",
    "        unique_values=np.unique(train_data[:,feature_idx])\n",
    "        feature_values.append(unique_values.tolist())\n",
    "        \n",
    "        feature_cond_probs = np.zeros((len(class_names), len(unique_values)))\n",
    "        for class_idx, class_name in enumerate(class_names):\n",
    "            feature_count=len(train_data[train_data[:,-1]==class_name])\n",
    "            for idx, value in enumerate(unique_values):\n",
    "                unique_feature_count=train_data[(train_data[:,feature_idx]==value) & (train_data[:,-1]==class_name)]\n",
    "                feature_cond_probs[class_idx,idx]=len(unique_feature_count)/feature_count\n",
    "        conditional_probs.append(feature_cond_probs)\n",
    "    return conditional_probs,feature_values\n",
    "    \n",
    "train_data=create_training_data()\n",
    "conditional_probs, feature_values  = compute_conditional_probabilities(train_data)\n",
    "print(\"x1 = \",feature_values[0])\n",
    "print(\"x2 = \",feature_values[1])\n",
    "print(\"x3 = \",feature_values[2])\n",
    "print(\"x4 = \",feature_values[3])\n",
    "\n",
    "print(conditional_probs[0])\n",
    "print(conditional_probs[1])\n",
    "print(conditional_probs[2])\n",
    "print(conditional_probs[3])"
   ]
  },
  {
   "cell_type": "code",
   "execution_count": 23,
   "id": "e413cb2f",
   "metadata": {},
   "outputs": [
    {
     "name": "stdout",
     "output_type": "stream",
     "text": [
      "[0.4 0.6]\n",
      "[array([[0.25      , 0.25      , 0.5       ],\n",
      "       [0.33333333, 0.5       , 0.16666667]]), array([[0.25      , 0.5       , 0.25      ],\n",
      "       [0.5       , 0.16666667, 0.33333333]]), array([[0.75      , 0.25      ],\n",
      "       [0.33333333, 0.66666667]]), array([[0.5       , 0.5       ],\n",
      "       [0.16666667, 0.83333333]])]\n",
      "[['Overcast', 'Rain', 'Sunny'], ['Cool', 'Hot', 'Mild'], ['High', 'Normal'], ['Strong', 'Weak']]\n"
     ]
    }
   ],
   "source": [
    "train_data=create_training_data()\n",
    "def train_naive_bayes(train_data):\n",
    "    prior_probabilities=compute_prior_probabilities(train_data)\n",
    "    conditional_probabilities, feature_names  = compute_conditional_probabilities(train_data)\n",
    "    return prior_probabilities, conditional_probabilities, feature_names\n",
    "prior_probs, conditional_probs, feature_names = train_naive_bayes(train_data)\n",
    "print(prior_probs)\n",
    "print(conditional_probs)\n",
    "print(feature_names)"
   ]
  },
  {
   "cell_type": "code",
   "execution_count": 24,
   "id": "d0b1069c",
   "metadata": {},
   "outputs": [
    {
     "name": "stdout",
     "output_type": "stream",
     "text": [
      "2\n"
     ]
    }
   ],
   "source": [
    "# Tìm vị trí của từng feature_value  ['Overcast', 'Rain', 'Sunny']\n",
    "def get_feature_index(feature_value, feature_values):\n",
    "    return np.where(feature_value==feature_values)[0][0]\n",
    "print(get_feature_index(\"Sunny\",np.array(['Overcast', 'Rain', 'Sunny'])))"
   ]
  },
  {
   "cell_type": "code",
   "execution_count": null,
   "id": "f6e76770",
   "metadata": {},
   "outputs": [
    {
     "name": "stdout",
     "output_type": "stream",
     "text": [
      "[np.float64(0.018750000000000003), np.float64(0.002777777777777777)]\n",
      "No\n",
      "Ad should not go!\n"
     ]
    }
   ],
   "source": [
    "def predict_tennis(\n",
    "        X, prior_probabilities, conditional_probabilities, feature_names\n",
    "    ):\n",
    "    \"\"\"\n",
    "    X = ['Sunny','Cool', 'High', 'Strong']\n",
    "    \n",
    "    Make a prediction for given features.\n",
    "\n",
    "    Args:\n",
    "        X: List of feature values [Outlook, Temperature, Humidity, Wind]\n",
    "        prior_probabilities: Prior probabilities for each class\n",
    "        conditional_probabilities: Conditional probabilities for each feature\n",
    "        feature_names: Names/values for each feature\n",
    "\n",
    "    Returns:\n",
    "        Tuple of (prediction, probabilities)\n",
    "    \"\"\"\n",
    "    class_names = ['No', 'Yes']\n",
    "    class_probabilities=[]\n",
    "    for class_idx in range(len(class_names)):\n",
    "        prob=prior_probabilities[class_idx]\n",
    "        for feature_idx,feature_value in enumerate(X):\n",
    "            index=get_feature_index(feature_value,np.array(feature_names[feature_idx]))\n",
    "            prob*=conditional_probs[feature_idx][class_idx,index]\n",
    "        class_probabilities.append(prob)\n",
    "    \n",
    "    # Optional    \n",
    "    normalized_probs = [p for p in class_probabilities] \n",
    "    print(normalized_probs)\n",
    "    predicted_idx=np.argmax(normalized_probs)\n",
    "    prediction=class_names[predicted_idx]\n",
    "    print(prediction)\n",
    "        \n",
    "X = ['Sunny','Cool', 'High', 'Strong']\n",
    "prior_probs, conditional_probs, feature_names = train_naive_bayes(train_data)\n",
    "prediction=predict_tennis(\n",
    "    X, prior_probs, conditional_probs, feature_names\n",
    ")\n",
    "if prediction==\"Yes\":\n",
    "    print(\"Ad should go!\")\n",
    "else:\n",
    "    print(\"Ad should not go!\")\n",
    "    "
   ]
  },
  {
   "cell_type": "code",
   "execution_count": 16,
   "id": "07514d4a",
   "metadata": {},
   "outputs": [
    {
     "name": "stdout",
     "output_type": "stream",
     "text": [
      "[['Sunny' 'Hot' 'High' 'Weak' 'No']\n",
      " ['Sunny' 'Hot' 'High' 'Strong' 'No']\n",
      " ['Overcast' 'Hot' 'High' 'Weak' 'Yes']\n",
      " ['Rain' 'Mild' 'High' 'Weak' 'Yes']\n",
      " ['Rain' 'Cool' 'Normal' 'Weak' 'Yes']\n",
      " ['Rain' 'Cool' 'Normal' 'Strong' 'No']\n",
      " ['Overcast' 'Cool' 'Normal' 'Strong' 'Yes']\n",
      " ['Overcast' 'Mild' 'High' 'Weak' 'No']\n",
      " ['Sunny' 'Cool' 'Normal' 'Weak' 'Yes']\n",
      " ['Rain' 'Mild' 'Normal' 'Weak' 'Yes']]\n"
     ]
    }
   ],
   "source": [
    "def load_training_data_from_csv(file_path):\n",
    "    with open(file_path, 'r') as f:\n",
    "        reader = csv.reader(f)\n",
    "        next(reader)  # Bỏ dòng header\n",
    "        data = []\n",
    "        for row in reader:\n",
    "            # Bỏ cột 'Day' (chỉ lấy từ Outlook đến PlayTennis)\n",
    "            data.append(row[1:])  \n",
    "        return np.array(data)\n",
    "    \n",
    "print(load_training_data_from_csv(\"./Data/data.csv\"))"
   ]
  }
 ],
 "metadata": {
  "kernelspec": {
   "display_name": "venv",
   "language": "python",
   "name": "python3"
  },
  "language_info": {
   "codemirror_mode": {
    "name": "ipython",
    "version": 3
   },
   "file_extension": ".py",
   "mimetype": "text/x-python",
   "name": "python",
   "nbconvert_exporter": "python",
   "pygments_lexer": "ipython3",
   "version": "3.11.13"
  }
 },
 "nbformat": 4,
 "nbformat_minor": 5
}
